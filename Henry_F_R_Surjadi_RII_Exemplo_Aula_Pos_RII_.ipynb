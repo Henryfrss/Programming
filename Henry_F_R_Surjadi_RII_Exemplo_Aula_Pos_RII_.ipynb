{
  "nbformat": 4,
  "nbformat_minor": 0,
  "metadata": {
    "colab": {
      "name": "Henry F. R. Surjadi - RII - Exemplo Aula - Pos - RII .ipynb",
      "private_outputs": true,
      "provenance": [],
      "collapsed_sections": [],
      "toc_visible": true,
      "include_colab_link": true
    },
    "kernelspec": {
      "name": "python3",
      "display_name": "Python 3"
    },
    "language_info": {
      "name": "python"
    }
  },
  "cells": [
    {
      "cell_type": "markdown",
      "metadata": {
        "id": "view-in-github",
        "colab_type": "text"
      },
      "source": [
        "<a href=\"https://colab.research.google.com/github/Henryfrss/Programming/blob/main/Henry_F_R_Surjadi_RII_Exemplo_Aula_Pos_RII_.ipynb\" target=\"_parent\"><img src=\"https://colab.research.google.com/assets/colab-badge.svg\" alt=\"Open In Colab\"/></a>"
      ]
    },
    {
      "cell_type": "markdown",
      "metadata": {
        "id": "YJl_u-2EKwBN"
      },
      "source": [
        "# Exemplo Execução do Script"
      ]
    },
    {
      "cell_type": "code",
      "metadata": {
        "id": "MwuWUSmhKufZ"
      },
      "source": [
        "print('Executando')"
      ],
      "execution_count": null,
      "outputs": []
    },
    {
      "cell_type": "code",
      "metadata": {
        "id": "fqqdiK-9i3aq"
      },
      "source": [
        "#!pip install pandas_ml"
      ],
      "execution_count": null,
      "outputs": []
    },
    {
      "cell_type": "code",
      "metadata": {
        "id": "M71iMdCAqz_O"
      },
      "source": [
        "%matplotlib inline\n",
        "from sklearn.metrics import classification_report\n",
        "from IPython.core.display import display, HTML\n",
        "import pandas as pd\n",
        "from sklearn.feature_extraction.text import TfidfVectorizer\n",
        "from sklearn.neighbors import KNeighborsClassifier\n",
        "from sklearn.metrics import adjusted_rand_score\n",
        "from sklearn.metrics.pairwise import cosine_similarity\n",
        "from yellowbrick.cluster import KElbowVisualizer\n",
        "from sklearn.metrics import silhouette_score\n",
        "from sklearn.cluster import KMeans\n",
        "import matplotlib.pyplot as plt\n",
        "from sklearn.model_selection import train_test_split\n",
        "import os"
      ],
      "execution_count": null,
      "outputs": []
    },
    {
      "cell_type": "markdown",
      "metadata": {
        "id": "vEgohbs16apv"
      },
      "source": [
        "# Carga de dados de exemplo - Atendimento Ouvidoria do Gov "
      ]
    },
    {
      "cell_type": "code",
      "metadata": {
        "id": "XU2UibXV6aQR"
      },
      "source": [
        "planilha_excel = pd.read_excel(\"ouvidoria-atendimentos-por-e-mail.xls\")\n",
        "planilha_excel.head(2)"
      ],
      "execution_count": null,
      "outputs": []
    },
    {
      "cell_type": "code",
      "metadata": {
        "id": "UQI12PUu7zPx"
      },
      "source": [
        "planilha_csv = pd.read_csv(\"ouvidoria-atendimentos-por-e-mail.csv\", sep=';')\n",
        "planilha_csv.head(2)"
      ],
      "execution_count": null,
      "outputs": []
    },
    {
      "cell_type": "code",
      "metadata": {
        "id": "cismP9WO8Wrs"
      },
      "source": [
        "planilha_csv.columns"
      ],
      "execution_count": null,
      "outputs": []
    },
    {
      "cell_type": "code",
      "metadata": {
        "id": "7621rGwY9RPj"
      },
      "source": [
        "planilha_csv.shape"
      ],
      "execution_count": null,
      "outputs": []
    },
    {
      "cell_type": "code",
      "metadata": {
        "id": "GeA2b9l9-XWv"
      },
      "source": [
        "planilha_csv['Assunto'].value_counts().shape"
      ],
      "execution_count": null,
      "outputs": []
    },
    {
      "cell_type": "code",
      "metadata": {
        "id": "L5RHfeby9Gv7"
      },
      "source": [
        "planilha_csv['Assunto'].value_counts().plot(kind='barh', figsize=(7,10.16))"
      ],
      "execution_count": null,
      "outputs": []
    },
    {
      "cell_type": "code",
      "metadata": {
        "id": "4PNR3VNP-OnG"
      },
      "source": [
        "planilha_csv.dtypes"
      ],
      "execution_count": null,
      "outputs": []
    },
    {
      "cell_type": "code",
      "metadata": {
        "id": "pgvRjuwb-1zK"
      },
      "source": [
        "planilha_csv['Assunto'] = planilha_csv['Assunto'].astype('category')"
      ],
      "execution_count": null,
      "outputs": []
    },
    {
      "cell_type": "code",
      "metadata": {
        "id": "VNLzm6xQ_DFJ"
      },
      "source": [
        "planilha_csv.dtypes"
      ],
      "execution_count": null,
      "outputs": []
    },
    {
      "cell_type": "code",
      "metadata": {
        "id": "Prosc9mC_Fog"
      },
      "source": [
        "planilha_csv['Assunto'].head(3)"
      ],
      "execution_count": null,
      "outputs": []
    },
    {
      "cell_type": "code",
      "metadata": {
        "id": "8K2W6Utp_UoZ"
      },
      "source": [
        "for i,j in zip(planilha_csv['Assunto'].head(10).cat.codes, planilha_csv['Assunto'].head(10)):\n",
        "  print(i,j)"
      ],
      "execution_count": null,
      "outputs": []
    },
    {
      "cell_type": "code",
      "metadata": {
        "id": "sHZuZZ4u_zLH"
      },
      "source": [
        "planilha_csv['cod_categoria']= planilha_csv['Assunto'].cat.codes"
      ],
      "execution_count": null,
      "outputs": []
    },
    {
      "cell_type": "code",
      "metadata": {
        "id": "DJTrageDAEVu"
      },
      "source": [
        "planilha_csv[['Assunto', 'cod_categoria']].head(10)"
      ],
      "execution_count": null,
      "outputs": []
    },
    {
      "cell_type": "code",
      "metadata": {
        "id": "Xwf-tYHcALjg"
      },
      "source": [
        "planilha_csv.columns = ['Data Recebimento',\n",
        "                        'Tempo de Resposta',\n",
        "                        'Mensagem',\n",
        "                        'Resolutiva',\n",
        "                        'Unidade',\n",
        "                        'Setor',\n",
        "                        'Público',\n",
        "                        'Quem',\n",
        "                        'Tipo_Manifestacao',\n",
        "                        'Assunto',\n",
        "                        'Sub Assunto',\n",
        "                        'Atendido',\n",
        "                        'Ofício',\n",
        "                        'cod_categoria']\n",
        "\n",
        "#planilha_csv['']"
      ],
      "execution_count": null,
      "outputs": []
    },
    {
      "cell_type": "code",
      "metadata": {
        "id": "ehCazrUTAPZZ"
      },
      "source": [
        "planilha_csv.query('Tipo_Manifestacao == \"Reclamação\"').head(2)"
      ],
      "execution_count": null,
      "outputs": []
    },
    {
      "cell_type": "code",
      "metadata": {
        "id": "OtV5dex2CUpp"
      },
      "source": [
        "planilha_csv[['Mensagem', 'cod_categoria']]"
      ],
      "execution_count": null,
      "outputs": []
    },
    {
      "cell_type": "markdown",
      "metadata": {
        "id": "-xa14-cYaFFA"
      },
      "source": [
        "# Criar Classe Documentais de exemplo"
      ]
    },
    {
      "cell_type": "code",
      "metadata": {
        "id": "wwrKl667LV_a"
      },
      "source": [
        "os.system('rm -Rf corpus')\n",
        "os.system('rm *.txt')"
      ],
      "execution_count": null,
      "outputs": []
    },
    {
      "cell_type": "code",
      "metadata": {
        "id": "BVXPn6qNYySK"
      },
      "source": [
        "os.system(\"mkdir corpus\") #criação do diretório em que será scanneado o conjunto textual\n",
        "\n",
        "def criar_classe_documental(nome):\n",
        "  os.system(\"mkdir ./corpus/\"+ nome)\n",
        "\n",
        "\n",
        "def string_to_file(arquivo, texto ):\n",
        "  with open(arquivo+\".txt\", 'a') as the_file:\n",
        "    the_file.write(texto)\n",
        "\n",
        "criar_classe_documental('classe_1')\n",
        "criar_classe_documental('classe_2')\n",
        "#criar_classe_documental('classe_3')"
      ],
      "execution_count": null,
      "outputs": []
    },
    {
      "cell_type": "code",
      "metadata": {
        "id": "teiULZZAY2Nd"
      },
      "source": [
        "textos = {'texto1':'sol, mar, lua',\n",
        "          'texto2':'sol, lua, mar',\n",
        "          'texto3':'peixe, estrela, peixe', \n",
        "          'texto4':'mar, lua, lua',\n",
        "          'texto5':'tubarao, lula, polvo'\n",
        "          }\n",
        "\n",
        "#for key, value in textos.items():\n",
        "#  string_to_file(key, value)\n",
        "for chave, valor in textos.items():\n",
        "  print(chave)\n",
        "  print(valor)\n",
        "  string_to_file(chave, valor)\n",
        "\n",
        "\n",
        "textos = {'texto5':'A Geografia é a ciência que estuda elementos físicos, biológicos e humanos, e suas relações com o planeta Terra.',\n",
        "          'texto6':'A palavra Matemática tem origem grega e significa “aquilo que se pode aprender”. É uma ciência que estuda quantidades, medidas, estruturas, variações e estatísticas.',\n",
        "          'texto7':'História é a ciência que estuda as ações humanas ao longo do tempo. O trabalho do historiador inclui uma análise minuciosa dos documentos que permitem o estudo do passado.',\n",
        "          'texto8':'A resistência dos materiais é a capacidade do material de resistir a uma força a ele aplicada. A resistência de um material é dada em função de seu processo de fabricação e os cientistas empregam uma variedade de processos para alterar essa resistência posteriormente.',\n",
        "          'texto9':'A avaliação das formações baseia-se principalmente na: Perfilagem a poço aberto; E na perfilagem de produção; No teste de formação a poço aberto; Nos testes de pressão a poço revestido; Os testes de formação e produção são as principais operações de avaliação, utilizadas para obter as informações necessárias ao desenvolvimento e acompanhamento de campos de petróleo e o gerenciamento desses reservatórios de óleo e gás.',\n",
        "          'texto10':'A Engenharia de Poço é uma ciência relativamente nova se comparada a outras engenharias, porém sua evolução se deu de maneira bastante acentuada, e isso se refletiu no constante aperfeiçoamento dos seus equipamentos.'\n",
        "          }\n",
        "\n",
        "#for key, value in textos.items():\n",
        "#  string_to_file(key, value)\n",
        "for chave, valor in textos.items():\n",
        "  print(chave)\n",
        "  print(valor)\n",
        "  string_to_file(chave, valor)"
      ],
      "execution_count": null,
      "outputs": []
    },
    {
      "cell_type": "markdown",
      "metadata": {
        "id": "IZ_Z7UdYnlBd"
      },
      "source": [
        "# Função pra descompactar zip files"
      ]
    },
    {
      "cell_type": "code",
      "metadata": {
        "id": "jnZuWDbeihYl"
      },
      "source": [
        "import zipfile\n",
        "\n",
        "\n",
        "def descompactar(nome_arquivo):\n",
        "  with zipfile.ZipFile(nome_arquivo, 'r') as zip_ref:\n",
        "    zip_ref.extractall(\".\")"
      ],
      "execution_count": null,
      "outputs": []
    },
    {
      "cell_type": "code",
      "metadata": {
        "id": "MQZB_ri5o5Xi"
      },
      "source": [
        "from sklearn.datasets import load_files as lf"
      ],
      "execution_count": null,
      "outputs": []
    },
    {
      "cell_type": "code",
      "metadata": {
        "id": "olT5MUbjo7pB"
      },
      "source": [
        "import random\n",
        "\n",
        "classes = ['classe_1','classe_2']\n",
        "\n",
        "qtd_classes = len(classes)\n",
        "\n",
        "opt_classes = classes#[:qtd_classes]\n",
        "print(opt_classes)\n",
        "\n",
        "#corpus = lf('./corpus', encoding='iso-8859-1', categories=opt_classes) #usar este pra tribuna\n",
        "corpus = lf('./corpus', encoding='UTF-8', categories=opt_classes) # usar este para texto plano no jupyter\n",
        "for classe in zip(opt_classes, list(pd.Series(corpus.target).value_counts())):\n",
        "  print(classe)\n",
        "\n",
        "\n",
        "pd.Series(corpus.target).value_counts()\n"
      ],
      "execution_count": null,
      "outputs": []
    },
    {
      "cell_type": "code",
      "metadata": {
        "id": "aangs3PygSiM"
      },
      "source": [
        "corpus.keys()"
      ],
      "execution_count": null,
      "outputs": []
    },
    {
      "cell_type": "code",
      "metadata": {
        "id": "FhhIRF4SDQnL"
      },
      "source": [
        "corpus.target"
      ],
      "execution_count": null,
      "outputs": []
    },
    {
      "cell_type": "code",
      "metadata": {
        "id": "DolMpWfMDygs"
      },
      "source": [
        "planilha_csv['cod_categoria'].values"
      ],
      "execution_count": null,
      "outputs": []
    },
    {
      "cell_type": "code",
      "metadata": {
        "id": "6CEydiIdEHZa"
      },
      "source": [
        "corpus.data"
      ],
      "execution_count": null,
      "outputs": []
    },
    {
      "cell_type": "code",
      "metadata": {
        "id": "xSTeW4ECEJrW"
      },
      "source": [
        "list(planilha_csv['Mensagem'].values)"
      ],
      "execution_count": null,
      "outputs": []
    },
    {
      "cell_type": "code",
      "metadata": {
        "id": "X0aH13obiVFi"
      },
      "source": [
        "for i in enumerate(corpus.target_names):\n",
        "  print(i)"
      ],
      "execution_count": null,
      "outputs": []
    },
    {
      "cell_type": "code",
      "metadata": {
        "id": "JQGuxH-1iHsa"
      },
      "source": [
        "for documento in zip(corpus.filenames, corpus.target):\n",
        "  print(documento)\n",
        "\n"
      ],
      "execution_count": null,
      "outputs": []
    },
    {
      "cell_type": "code",
      "metadata": {
        "id": "OYInT6HxgLYz"
      },
      "source": [
        "for documento in zip(corpus.filenames, corpus.data):\n",
        "  print(documento)"
      ],
      "execution_count": null,
      "outputs": []
    },
    {
      "cell_type": "code",
      "metadata": {
        "id": "y26X9rujfzVR"
      },
      "source": [
        "corpus.data[:5]"
      ],
      "execution_count": null,
      "outputs": []
    },
    {
      "cell_type": "code",
      "metadata": {
        "id": "0mTMyAR1_dXU"
      },
      "source": [
        "def vetoriza_texto(texto, ngram=(1,1),feats=100):\n",
        "    vectorizer =  TfidfVectorizer(ngram_range=ngram,\n",
        "                                  lowercase=True,\n",
        "                                  max_features=feats) # TfidfVectorizer(stop_words='english')\n",
        "    return vectorizer.fit_transform(texto)\n",
        "\n",
        "\n",
        "def clusteriza(X, title='Cluster', dimensao=(2,7)):\n",
        "    #plt.plot(figsize=(10,18.16))\n",
        "    model = KElbowVisualizer(KMeans(), k=dimensao, timings=False, locate_elbow=True)\n",
        "    model.fit(X.toarray())    \n",
        "        \n",
        "    plt.legend()\n",
        "    plt.title(title)  \n",
        "    plt.show()\n",
        "    #return [model.elbow_score_,model.elbow_value_]"
      ],
      "execution_count": null,
      "outputs": []
    },
    {
      "cell_type": "code",
      "metadata": {
        "id": "z5udOKo1NINI"
      },
      "source": [
        "clusteriza(vetoriza_texto(corpus.data))"
      ],
      "execution_count": null,
      "outputs": []
    },
    {
      "cell_type": "code",
      "metadata": {
        "id": "bR-oEhGFEm3K"
      },
      "source": [
        "clusteriza(vetoriza_texto(planilha_csv['Mensagem'].values), dimensao=(2,60))\n",
        "\n"
      ],
      "execution_count": null,
      "outputs": []
    },
    {
      "cell_type": "code",
      "metadata": {
        "id": "Aj_Rbb56ATzj"
      },
      "source": [
        "from sklearn.cluster import KMeans\n",
        "from sklearn import metrics\n",
        "from scipy.spatial.distance import cdist\n",
        "import numpy as np\n",
        "import matplotlib.pyplot as plt\n",
        "from tqdm import tqdm\n",
        "\n",
        "import numpy as np\n",
        "\n",
        "\n",
        "def clusteriza_benchmark(X, titulo):\n",
        "  rodada_inertia = {}\n",
        "  rodada_distocao = {}\n",
        "  metricas = ['euclidean', \n",
        "              #'minkowski',\n",
        "              #'cityblock',\n",
        "              'seuclidean',\n",
        "              #'sqeuclidean',\n",
        "              'cosine', \n",
        "              'correlation',\n",
        "              #'hamming',\n",
        "              #'jaccard',\n",
        "              #'jensenshannon',\n",
        "              #'chebyshev',\n",
        "              #'canberra',\n",
        "              #'braycurtis',\n",
        "              #'mahalanobis',\n",
        "              #'yule',\n",
        "              #'matching',\n",
        "              #'dice',\n",
        "              #'kulsinski',\n",
        "              #'rogerstanimoto', \n",
        "              #'russellrao',\n",
        "              #'sokalmichener', \n",
        "              #'sokalsneath',\n",
        "              #'wminkowski',\n",
        "              ]\n",
        "  \n",
        "  for met in tqdm(metricas):\n",
        "    distortions = []\n",
        "    inertias = []\n",
        "    mapping1 = {}\n",
        "    mapping2 = {}\n",
        "    K = range(min_n_clusters, max_n_clusters)\n",
        "\n",
        "    for k in K:\n",
        "        #print(\"%s %d\" %(met, k))\n",
        "        # Building and fitting the model\n",
        "        kmeanModel = KMeans(n_clusters=k).fit(X)\n",
        "        kmeanModel.fit(X)\n",
        "    \n",
        "        distortions.append(sum(np.min(cdist(X, kmeanModel.cluster_centers_,\n",
        "                                            met), axis=1)) / X.shape[0])\n",
        "        inertias.append(kmeanModel.inertia_)\n",
        "    \n",
        "        mapping1[k] = sum(np.min(cdist(X, kmeanModel.cluster_centers_,\n",
        "                                      met), axis=1)) / X.shape[0]\n",
        "        mapping2[k] = kmeanModel.inertia_\n",
        "\n",
        "    #plt.plot(K, distortions, 'bx-')\n",
        "    #plt.xlabel('Values of K')\n",
        "    #plt.ylabel('Distortion')\n",
        "    #plt.title('The Elbow Method using Distortion ' + met)\n",
        "    #plt.show()\n",
        "\n",
        "\n",
        "\n",
        "\n",
        "    #plt.plot(K, inertias, 'bx-')\n",
        "    #plt.xlabel('Values of K')\n",
        "    #plt.ylabel('Inertia')\n",
        "    #plt.title('The Elbow Method using Inertia ' + met)\n",
        "    #plt.show()\n",
        "    #print(\"-----------------------------------------------------------------\")\n",
        "\n",
        "    mpl1 = []\n",
        "    for key, val in mapping1.items():\n",
        "      #print(f'{key} : {val}')\n",
        "      mpl1.append(val)\n",
        "    \n",
        "    mp1 = pd.Series(mpl1.copy())  \n",
        "    rodada_distocao[met] = (mp1 - mp1.mean())/mp1.std()\n",
        "    #rodada_distocao[met] = mp1\n",
        "\n",
        "    mpl2 = []\n",
        "    for key, val in mapping2.items():\n",
        "      #print(f'{key} : {val}')\n",
        "      mpl2.append(val)\n",
        "    mp2 = pd.Series(mpl2.copy())  \n",
        "    rodada_inertia[met] = (mp2 - mp2.mean())/mp2.std()\n",
        "\n",
        "  dfdistortion = pd.DataFrame.from_dict(rodada_distocao)\n",
        "  dfdistortion.index=list(K)\n",
        "\n",
        "  sea.heatmap(data=dfdistortion.corr().sort_values(by='cosine', axis=0).sort_values(by='cosine', axis=1))\n",
        "  plt.title('Corr. Distorções ' + titulo)\n",
        "  plt.show()\n",
        "\n",
        "\n",
        "  #sea.catplot(data=dfdistortion,  orient='h')\n",
        "#  plt.show()\n",
        "\n",
        "  dfinertia = pd.DataFrame.from_dict(rodada_inertia)\n",
        "  sea.heatmap(data=dfinertia.corr().sort_values(by='cosine', axis=0).sort_values(by='cosine', axis=1))\n",
        "  plt.title('Corr. Inércias' + titulo)\n",
        "  plt.show()\n",
        "\n",
        "  dfinertia.index=list(K)\n",
        "  \n",
        "  dfdistortion.plot(title='Distorção - ' + titulo)\n",
        "  plt.legend(loc='upper right')\n",
        "  plt.show()\n",
        "  dfinertia.plot(title='Inércia - ' + titulo)\n",
        "  plt.legend(loc='upper right')\n",
        "  plt.show()"
      ],
      "execution_count": null,
      "outputs": []
    },
    {
      "cell_type": "code",
      "metadata": {
        "id": "-PgoU_XnoXMz"
      },
      "source": [
        "import seaborn as sea\n",
        "\n",
        "#@title Hyper Params Clusterization\n",
        "#@markdown Forms support many types of fields.\n",
        "min_n_clusters = 2 #@param {type:\"slider\", min:2, max:40, step:1}\n",
        "max_n_clusters = 6 #@param {type:\"slider\", min:2, max:70, step:1}\n",
        "n_gram_piso = 1 #@param {type:\"slider\", min:1, max:10, step:2}\n",
        "n_gram_teto = 9 #@param {type:\"slider\", min:1, max:20, step:2}\n",
        "\n",
        "n_features = 149 #@param {type:\"slider\", min:1, max:500, step:1}\n",
        "#@markdown ---\n"
      ],
      "execution_count": null,
      "outputs": []
    },
    {
      "cell_type": "code",
      "metadata": {
        "id": "T8EIzTuG_jC1"
      },
      "source": [
        "#documents = planilha_csv['Mensagem'].values # corpus.data\n",
        "documents = corpus.data\n",
        "\n",
        "pn = (int(n_gram_piso),int(n_gram_teto))\n",
        "n_word = n_features\n",
        "X = vetoriza_texto(documents, ngram=pn, feats=n_word)\n",
        "clusteriza_benchmark(X.toarray(),\"Textos Avulsos\")"
      ],
      "execution_count": null,
      "outputs": []
    },
    {
      "cell_type": "markdown",
      "metadata": {
        "id": "xmSKnhfckSiU"
      },
      "source": [
        "# Ranking das Palavras"
      ]
    },
    {
      "cell_type": "code",
      "metadata": {
        "id": "wubndeYVyYnj"
      },
      "source": [
        "\n",
        "#@title Hyper Params Clusterization\n",
        "#@markdown Forms support many types of fields.\n",
        "min_n_clusters = 2 #@param {type:\"slider\", min:2, max:40, step:1}\n",
        "max_n_clusters = 6 #@param {type:\"slider\", min:2, max:12, step:1}\n",
        "n_gram_teto = 3 #@param {type:\"slider\", min:1, max:20, step:1}\n",
        "n_gram_piso = 1 #@param {type:\"slider\", min:1, max:10, step:1}\n",
        "n_features = 100 #@param {type:\"slider\", min:1, max:100, step:1}\n",
        "#@markdown ---"
      ],
      "execution_count": null,
      "outputs": []
    },
    {
      "cell_type": "code",
      "metadata": {
        "id": "qsL6cczQPrFP"
      },
      "source": [
        "corpus.data"
      ],
      "execution_count": null,
      "outputs": []
    },
    {
      "cell_type": "markdown",
      "metadata": {
        "id": "QcxGUv8I1KOX"
      },
      "source": [
        "# Stop Words"
      ]
    },
    {
      "cell_type": "code",
      "metadata": {
        "id": "bU07Nve5K5gU"
      },
      "source": [
        "stop_list = ['uma',\n",
        "             'um', \n",
        "             'tem', \n",
        "             'são', \n",
        "             'sua', \n",
        "             'sobre', \n",
        "             'seu', \n",
        "             'ser',\n",
        "             'pode',\n",
        "             'na',\n",
        "             'desses',\n",
        "             'do', \n",
        "             'de',\n",
        "             'nos',\n",
        "             'se',\n",
        "             'deu',\n",
        "             'no',\n",
        "             'que',\n",
        "             'as',\n",
        "             'para',\n",
        "             'palavra',\n",
        "             'os',\n",
        "             'outras',\n",
        "             'porém',\n",
        "             'aquilo',\n",
        "             'material',\n",
        "             'dada',\n",
        "             'em',\n",
        "             ]\n",
        "\n",
        "stop_list.sort()\n",
        "\n",
        "\n",
        "pn = (n_gram_piso,n_gram_teto)\n",
        "n_word = n_features\n",
        "vectorizer =  TfidfVectorizer(ngram_range=pn,\n",
        "                              lowercase=True,\n",
        "                              #max_features=    df_vocabulario.shape[0],\n",
        "                              max_features=    n_features,\n",
        "                              sublinear_tf =True,\n",
        "                              stop_words=stop_list) # TfidfVectorizer(stop_words='english')\n",
        "X = vectorizer.fit_transform(corpus.data) #comentado para rodar os dados do exemplo dos dados de governo\n",
        "#X = vectorizer.fit_transform(planilha_csv['Mensagem'].values)\n",
        "\n",
        "\n",
        "df_vocabulario = pd.DataFrame(vectorizer.vocabulary_, index=[0]).T.reset_index()\n",
        "df_vocabulario.columns=['termo', 'frequencia']\n",
        "df_vocabulario = df_vocabulario.sort_values(by='frequencia', ascending=False)\n",
        "#print(df_vocabulario.head(10))\n",
        "#df_vocabulario['frequencia'].plot(kind='kde')\n",
        "#df_vocabulario.query('frequencia > 600').tail(10)\n",
        "#n_lexico = df_vocabulario.shape[0]\n",
        "#corte_super = 90\n",
        "#corte_inferior = 10\n",
        "\n",
        "\n",
        "lexico_linguistico = df_vocabulario.shape[0]/len(corpus.filenames)\n",
        "print(\"Grau Léxico Linguístico %.2f\" % lexico_linguistico)\n",
        "\n",
        "df_vocabulario.head(50)\n"
      ],
      "execution_count": null,
      "outputs": []
    },
    {
      "cell_type": "code",
      "metadata": {
        "id": "10UD9ykXV6vS"
      },
      "source": [
        "df_vocabulario.plot(kind='barh', figsize=(10,18.16))"
      ],
      "execution_count": null,
      "outputs": []
    },
    {
      "cell_type": "markdown",
      "metadata": {
        "id": "MvxHRzCFy29j"
      },
      "source": [
        "# Agrupamento - Clusterização"
      ]
    },
    {
      "cell_type": "code",
      "metadata": {
        "id": "vdoNtKfFoLAl"
      },
      "source": [
        "#@title Hyper Params Clusterization\n",
        "#@markdown Forms support many types of fields.\n",
        "min_n_clusters = 2 #@param {type:\"slider\", min:2, max:40, step:1}\n",
        "max_n_clusters = 4 #@param {type:\"slider\", min:2, max:12, step:1}\n",
        "n_gram_teto = 1 #@param {type:\"slider\", min:1, max:20, step:2}\n",
        "n_gram_piso = 1 #@param {type:\"slider\", min:1, max:10, step:2}\n",
        "n_features = 401 #@param {type:\"slider\", min:1, max:1001, step:50}\n",
        "#@markdown ---"
      ],
      "execution_count": null,
      "outputs": []
    },
    {
      "cell_type": "code",
      "metadata": {
        "id": "v4KOom2HkGJX"
      },
      "source": [
        "pn = (n_gram_piso,n_gram_teto)\n",
        "n_word = n_features\n",
        "vectorizer =  TfidfVectorizer(ngram_range=pn,\n",
        "                              lowercase=True,\n",
        "                              max_features=100,\n",
        "                              sublinear_tf =True,\n",
        "                              stop_words=stop_list)\n",
        "\n"
      ],
      "execution_count": null,
      "outputs": []
    },
    {
      "cell_type": "code",
      "metadata": {
        "id": "B77I3pLFmw2u"
      },
      "source": [
        "df_word_ranking = pd.DataFrame(X.toarray(), columns=list(df_vocabulario['termo'].values))\n",
        "pd.DataFrame(df_word_ranking.sum(axis=0)).sort_values(by=0, ascending=False).tail(10).plot(kind='barh', legend=False, title='Top 10 Features')"
      ],
      "execution_count": null,
      "outputs": []
    },
    {
      "cell_type": "code",
      "metadata": {
        "id": "LSC2827H1tSX"
      },
      "source": [
        "pd.DataFrame(df_word_ranking.sum(axis=0)).sort_values(by=0, ascending=False).head(10).plot(kind='barh', legend=False, title='Last 10 Features')"
      ],
      "execution_count": null,
      "outputs": []
    },
    {
      "cell_type": "code",
      "metadata": {
        "id": "etDu4S1gVZIH"
      },
      "source": [
        "pd.DataFrame(df_word_ranking.sum(axis=0)).sort_values(by=0, ascending=False).plot(kind='barh', legend=False, figsize=(10,18.16))"
      ],
      "execution_count": null,
      "outputs": []
    },
    {
      "cell_type": "code",
      "metadata": {
        "id": "Q6iAqPjkkGBQ"
      },
      "source": [
        "#sea.jointplot(data=df_word_ranking[['anos', 'rua', 'mais']], kind='scatter')\n",
        "#sea.jointplot(data=df_word_ranking[['humanos suas', 'inclui análise', 'inclui', 'estudo']], kind='scatter')\n",
        "\n",
        "sea.jointplot(data=df_word_ranking[['reservatórios', 'estuda', 'força', 'estatísticas']], kind='scatter')"
      ],
      "execution_count": null,
      "outputs": []
    },
    {
      "cell_type": "code",
      "metadata": {
        "id": "tT2_TV0e2nUu"
      },
      "source": [
        "sea.jointplot(data=df_word_ranking[['história', 'grega']], kind='scatter')"
      ],
      "execution_count": null,
      "outputs": []
    },
    {
      "cell_type": "code",
      "metadata": {
        "id": "bU6e__JoBCFS"
      },
      "source": [
        "def clusteriza_tribuna_nano(n):\n",
        "  kmeans = KMeans(n_clusters=n)\n",
        "  kmeans.fit(X)\n",
        "  cluster_labels = kmeans.labels_\n",
        "  df_labels = pd.DataFrame(cluster_labels, columns=['y_hat'])\n",
        "  df_labels.value_counts().plot(kind='barh')\n",
        "  df_labels['y_real'] = corpus['target']\n",
        "  df_labels['tipo'] = get_nome(df_labels['y_real'])\n",
        "  pd.Series(corpus.target).value_counts()\n",
        "  \n",
        "  print(classification_report(y_pred=df_labels['y_hat'], y_true=df_labels['y_real'], target_names=corpus.target_names))"
      ],
      "execution_count": null,
      "outputs": []
    },
    {
      "cell_type": "code",
      "metadata": {
        "id": "nkLrrx2SlWK2"
      },
      "source": [
        "sea.kdeplot(data=df_word_ranking.mean())"
      ],
      "execution_count": null,
      "outputs": []
    },
    {
      "cell_type": "code",
      "metadata": {
        "id": "2seITWjeFowI"
      },
      "source": [
        "def get_nome(n):\n",
        "  valor_novo = []\n",
        "  for k in n:\n",
        "    valor_novo.append(corpus.target_names[k])\n",
        "\n",
        "  return valor_novo"
      ],
      "execution_count": null,
      "outputs": []
    },
    {
      "cell_type": "code",
      "metadata": {
        "id": "BWQQ9RbUO-48"
      },
      "source": [
        "def get_nome_gov(n):\n",
        "  valor_novo = []\n",
        "  for k in n:\n",
        "    valor_novo.append(list(planilha_csv['Assunto'])[k])\n",
        "\n",
        "  return valor_novo"
      ],
      "execution_count": null,
      "outputs": []
    },
    {
      "cell_type": "code",
      "metadata": {
        "id": "v6y-f9x4K4Md"
      },
      "source": [
        "clusteriza_tribuna_nano(3)"
      ],
      "execution_count": null,
      "outputs": []
    },
    {
      "cell_type": "code",
      "metadata": {
        "id": "L2a4ogfmHqHa"
      },
      "source": [
        "df_labels.tipo.value_counts()"
      ],
      "execution_count": null,
      "outputs": []
    },
    {
      "cell_type": "code",
      "metadata": {
        "id": "J0Vt8hHihxmM"
      },
      "source": [
        "pn = (n_gram_piso,n_gram_teto)\n",
        "n_word = n_features\n",
        "vectorizer =  TfidfVectorizer(ngram_range=pn,\n",
        "                              lowercase=True,\n",
        "                              max_features=100,\n",
        "                              sublinear_tf =True,\n",
        "                              stop_words=stop_list)\n",
        "\n",
        "X = vectorizer.fit_transform(corpus.data)\n",
        "#X = vectorizer.fit_transform(planilha_csv['Mensagem'].values)\n",
        "\n",
        "kmeans = KMeans(n_clusters=10)\n",
        "kmeans.fit(X)\n",
        "cluster_labels = kmeans.labels_\n",
        "\n",
        "df_labels = pd.DataFrame(cluster_labels, columns=['y_hat'])\n",
        "df_labels.value_counts().plot(kind='barh')\n",
        "df_labels['y_real'] = corpus['target']\n",
        "#df_labels['y_real'] = planilha_csv['cod_categoria']\n",
        "\n",
        "df_labels['filename'] = corpus.filenames\n",
        "df_labels['tipo'] = get_nome(df_labels['y_real'])\n",
        "#df_labels['tipo'] = get_nome_gov(df_labels['y_real'])\n",
        "#df_labels['tipo_hat'] = get_nome_gov(df_labels['y_hat'])\n",
        "\n",
        "pd.Series(corpus.target).value_counts()\n",
        "\n",
        "  \n",
        "\n",
        "df_labels.head(20)\n"
      ],
      "execution_count": null,
      "outputs": []
    },
    {
      "cell_type": "code",
      "metadata": {
        "id": "lT2QoBETFUOU"
      },
      "source": [
        "print(classification_report(y_pred=df_labels['y_hat'], y_true=df_labels['y_real']))"
      ],
      "execution_count": null,
      "outputs": []
    },
    {
      "cell_type": "code",
      "metadata": {
        "id": "eVOkM20kQEvM"
      },
      "source": [
        "#planilha_csv[['Assunto', 'cod_categoria']].head(30)\n",
        "\n",
        "planilha_csv[['Assunto', 'cod_categoria']].value_counts()"
      ],
      "execution_count": null,
      "outputs": []
    },
    {
      "cell_type": "code",
      "metadata": {
        "id": "32IH49s33q3n"
      },
      "source": [
        "df_labels.head(20).plot(kind='barh', figsize=(8,20))"
      ],
      "execution_count": null,
      "outputs": []
    },
    {
      "cell_type": "code",
      "metadata": {
        "id": "u-AD1iTf4b1M"
      },
      "source": [
        "planilha_csv[['Assunto', 'Mensagem']].to_csv(\"ouvidoria_gov_assunto_mensagem.dat\", sep='\\t', index=False)"
      ],
      "execution_count": null,
      "outputs": []
    },
    {
      "cell_type": "code",
      "metadata": {
        "id": "JZswtiJsf0rL"
      },
      "source": [
        "df_labels['Mensagem'] = planilha_csv['Mensagem']\n",
        "\n"
      ],
      "execution_count": null,
      "outputs": []
    },
    {
      "cell_type": "code",
      "metadata": {
        "id": "Lkr00OUhf-fS"
      },
      "source": [
        "for i in range(56):\n",
        "  print('cluster %d' % i )\n",
        "  print(df_labels.query('y_hat =='+ str(i))['Mensagem'])\n",
        "  print('.........................')"
      ],
      "execution_count": null,
      "outputs": []
    },
    {
      "cell_type": "code",
      "metadata": {
        "id": "cRSfKSp2gyOv"
      },
      "source": [
        "df_labels.iloc[7]"
      ],
      "execution_count": null,
      "outputs": []
    },
    {
      "cell_type": "code",
      "metadata": {
        "id": "Zy2hcnDBgzgU"
      },
      "source": [
        "df_labels.iloc[4]"
      ],
      "execution_count": null,
      "outputs": []
    }
  ]
}